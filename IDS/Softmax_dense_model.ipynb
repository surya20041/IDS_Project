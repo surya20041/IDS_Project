{
 "cells": [
  {
   "cell_type": "markdown",
   "metadata": {},
   "source": [
    "# Intrusion Detection System\n",
    "\n",
    "- In this project we will be trying to evaluate the performance of Shallow Neural Networks on the `CSE-CIC-IDS2018 on AWS` dataset\n",
    "- Here we are working on a curated smaller dataset due to computational limitations\n",
    "- We have created a smaller subset of the overall dataset with a total 1.2 lakhs+ records"
   ]
  },
  {
   "cell_type": "code",
   "execution_count": 1,
   "metadata": {},
   "outputs": [],
   "source": [
    "import tensorflow as tf\n",
    "import pandas as pd\n",
    "import matplotlib.pyplot as plt\n",
    "import numpy as np\n",
    "from sklearn.preprocessing import QuantileTransformer"
   ]
  },
  {
   "cell_type": "markdown",
   "metadata": {},
   "source": [
    "### Getting to know our data\n",
    "\n",
    "- After importing our data we will seperate feature columns to form the X and Y labels\n",
    "- Then we will use `sklearn` library functions to split data into training and testing sets"
   ]
  },
  {
   "cell_type": "code",
   "execution_count": 2,
   "metadata": {},
   "outputs": [],
   "source": [
    "train=pd.read_csv(r\"C:\\Users\\Sagar\\Python files_Jupiter\\Git Repo Local\\IDS_IPS Softmax Classification\\Datasets\\Final Datasets\\train.csv\")\n",
    "test=pd.read_csv(r\"C:\\Users\\Sagar\\Python files_Jupiter\\Git Repo Local\\IDS_IPS Softmax Classification\\Datasets\\Final Datasets\\test.csv\")"
   ]
  },
  {
   "cell_type": "code",
   "execution_count": 3,
   "metadata": {},
   "outputs": [
    {
     "data": {
      "text/html": [
       "<div>\n",
       "<style scoped>\n",
       "    .dataframe tbody tr th:only-of-type {\n",
       "        vertical-align: middle;\n",
       "    }\n",
       "\n",
       "    .dataframe tbody tr th {\n",
       "        vertical-align: top;\n",
       "    }\n",
       "\n",
       "    .dataframe thead th {\n",
       "        text-align: right;\n",
       "    }\n",
       "</style>\n",
       "<table border=\"1\" class=\"dataframe\">\n",
       "  <thead>\n",
       "    <tr style=\"text-align: right;\">\n",
       "      <th></th>\n",
       "      <th>Destination Port</th>\n",
       "      <th>Flow Duration</th>\n",
       "      <th>Total Fwd Packets</th>\n",
       "      <th>Total Backward Packets</th>\n",
       "      <th>Total Length of Fwd Packets</th>\n",
       "      <th>Total Length of Bwd Packets</th>\n",
       "      <th>Fwd Packet Length Max</th>\n",
       "      <th>Fwd Packet Length Min</th>\n",
       "      <th>Fwd Packet Length Mean</th>\n",
       "      <th>Fwd Packet Length Std</th>\n",
       "      <th>...</th>\n",
       "      <th>min_seg_size_forward</th>\n",
       "      <th>Active Mean</th>\n",
       "      <th>Active Std</th>\n",
       "      <th>Active Max</th>\n",
       "      <th>Active Min</th>\n",
       "      <th>Idle Mean</th>\n",
       "      <th>Idle Std</th>\n",
       "      <th>Idle Max</th>\n",
       "      <th>Idle Min</th>\n",
       "      <th>Label</th>\n",
       "    </tr>\n",
       "  </thead>\n",
       "  <tbody>\n",
       "    <tr>\n",
       "      <th>0</th>\n",
       "      <td>54865</td>\n",
       "      <td>3</td>\n",
       "      <td>2</td>\n",
       "      <td>0</td>\n",
       "      <td>12</td>\n",
       "      <td>0</td>\n",
       "      <td>6</td>\n",
       "      <td>6</td>\n",
       "      <td>6.0</td>\n",
       "      <td>0.0</td>\n",
       "      <td>...</td>\n",
       "      <td>20</td>\n",
       "      <td>0.0</td>\n",
       "      <td>0.0</td>\n",
       "      <td>0</td>\n",
       "      <td>0</td>\n",
       "      <td>0.0</td>\n",
       "      <td>0.0</td>\n",
       "      <td>0</td>\n",
       "      <td>0</td>\n",
       "      <td>BENIGN</td>\n",
       "    </tr>\n",
       "    <tr>\n",
       "      <th>1</th>\n",
       "      <td>55054</td>\n",
       "      <td>109</td>\n",
       "      <td>1</td>\n",
       "      <td>1</td>\n",
       "      <td>6</td>\n",
       "      <td>6</td>\n",
       "      <td>6</td>\n",
       "      <td>6</td>\n",
       "      <td>6.0</td>\n",
       "      <td>0.0</td>\n",
       "      <td>...</td>\n",
       "      <td>20</td>\n",
       "      <td>0.0</td>\n",
       "      <td>0.0</td>\n",
       "      <td>0</td>\n",
       "      <td>0</td>\n",
       "      <td>0.0</td>\n",
       "      <td>0.0</td>\n",
       "      <td>0</td>\n",
       "      <td>0</td>\n",
       "      <td>BENIGN</td>\n",
       "    </tr>\n",
       "    <tr>\n",
       "      <th>2</th>\n",
       "      <td>55055</td>\n",
       "      <td>52</td>\n",
       "      <td>1</td>\n",
       "      <td>1</td>\n",
       "      <td>6</td>\n",
       "      <td>6</td>\n",
       "      <td>6</td>\n",
       "      <td>6</td>\n",
       "      <td>6.0</td>\n",
       "      <td>0.0</td>\n",
       "      <td>...</td>\n",
       "      <td>20</td>\n",
       "      <td>0.0</td>\n",
       "      <td>0.0</td>\n",
       "      <td>0</td>\n",
       "      <td>0</td>\n",
       "      <td>0.0</td>\n",
       "      <td>0.0</td>\n",
       "      <td>0</td>\n",
       "      <td>0</td>\n",
       "      <td>BENIGN</td>\n",
       "    </tr>\n",
       "    <tr>\n",
       "      <th>3</th>\n",
       "      <td>46236</td>\n",
       "      <td>34</td>\n",
       "      <td>1</td>\n",
       "      <td>1</td>\n",
       "      <td>6</td>\n",
       "      <td>6</td>\n",
       "      <td>6</td>\n",
       "      <td>6</td>\n",
       "      <td>6.0</td>\n",
       "      <td>0.0</td>\n",
       "      <td>...</td>\n",
       "      <td>20</td>\n",
       "      <td>0.0</td>\n",
       "      <td>0.0</td>\n",
       "      <td>0</td>\n",
       "      <td>0</td>\n",
       "      <td>0.0</td>\n",
       "      <td>0.0</td>\n",
       "      <td>0</td>\n",
       "      <td>0</td>\n",
       "      <td>BENIGN</td>\n",
       "    </tr>\n",
       "    <tr>\n",
       "      <th>4</th>\n",
       "      <td>54863</td>\n",
       "      <td>3</td>\n",
       "      <td>2</td>\n",
       "      <td>0</td>\n",
       "      <td>12</td>\n",
       "      <td>0</td>\n",
       "      <td>6</td>\n",
       "      <td>6</td>\n",
       "      <td>6.0</td>\n",
       "      <td>0.0</td>\n",
       "      <td>...</td>\n",
       "      <td>20</td>\n",
       "      <td>0.0</td>\n",
       "      <td>0.0</td>\n",
       "      <td>0</td>\n",
       "      <td>0</td>\n",
       "      <td>0.0</td>\n",
       "      <td>0.0</td>\n",
       "      <td>0</td>\n",
       "      <td>0</td>\n",
       "      <td>BENIGN</td>\n",
       "    </tr>\n",
       "  </tbody>\n",
       "</table>\n",
       "<p>5 rows × 79 columns</p>\n",
       "</div>"
      ],
      "text/plain": [
       "    Destination Port   Flow Duration   Total Fwd Packets  \\\n",
       "0              54865               3                   2   \n",
       "1              55054             109                   1   \n",
       "2              55055              52                   1   \n",
       "3              46236              34                   1   \n",
       "4              54863               3                   2   \n",
       "\n",
       "    Total Backward Packets  Total Length of Fwd Packets  \\\n",
       "0                        0                           12   \n",
       "1                        1                            6   \n",
       "2                        1                            6   \n",
       "3                        1                            6   \n",
       "4                        0                           12   \n",
       "\n",
       "    Total Length of Bwd Packets   Fwd Packet Length Max  \\\n",
       "0                             0                       6   \n",
       "1                             6                       6   \n",
       "2                             6                       6   \n",
       "3                             6                       6   \n",
       "4                             0                       6   \n",
       "\n",
       "    Fwd Packet Length Min   Fwd Packet Length Mean   Fwd Packet Length Std  \\\n",
       "0                       6                      6.0                     0.0   \n",
       "1                       6                      6.0                     0.0   \n",
       "2                       6                      6.0                     0.0   \n",
       "3                       6                      6.0                     0.0   \n",
       "4                       6                      6.0                     0.0   \n",
       "\n",
       "   ...   min_seg_size_forward  Active Mean   Active Std   Active Max  \\\n",
       "0  ...                     20          0.0          0.0            0   \n",
       "1  ...                     20          0.0          0.0            0   \n",
       "2  ...                     20          0.0          0.0            0   \n",
       "3  ...                     20          0.0          0.0            0   \n",
       "4  ...                     20          0.0          0.0            0   \n",
       "\n",
       "    Active Min  Idle Mean   Idle Std   Idle Max   Idle Min   Label  \n",
       "0            0        0.0        0.0          0          0  BENIGN  \n",
       "1            0        0.0        0.0          0          0  BENIGN  \n",
       "2            0        0.0        0.0          0          0  BENIGN  \n",
       "3            0        0.0        0.0          0          0  BENIGN  \n",
       "4            0        0.0        0.0          0          0  BENIGN  \n",
       "\n",
       "[5 rows x 79 columns]"
      ]
     },
     "execution_count": 3,
     "metadata": {},
     "output_type": "execute_result"
    }
   ],
   "source": [
    "train.head()"
   ]
  },
  {
   "cell_type": "code",
   "execution_count": 4,
   "metadata": {},
   "outputs": [],
   "source": [
    "y_values={\n",
    "    \"BENIGN\": 0,\n",
    "    \"DDoS\": 1,\n",
    "    \"PortScan\": 2,\n",
    "    \"FTP-Patator\": 3,\n",
    "    \"SSH-Patator\": 4,\n",
    "    \"DoS slowloris\": 5,\n",
    "    \"DoS Slowhttptest\": 6,\n",
    "    \"DoS Hulk\": 7,\n",
    "    \"DoS GoldenEye\": 8,\n",
    "}"
   ]
  },
  {
   "cell_type": "code",
   "execution_count": 19,
   "metadata": {},
   "outputs": [],
   "source": [
    "train=train[train.iloc[:,-1].isin(y_values.keys())]\n",
    "test=test[test.iloc[:,-1].isin(y_values.keys())]"
   ]
  },
  {
   "cell_type": "code",
   "execution_count": 20,
   "metadata": {},
   "outputs": [],
   "source": [
    "X_train=train.iloc[:,0:-1]\n",
    "Y_train=train.iloc[:,-1].map(y_values)\n",
    "X_test=test.iloc[:,0:-1]\n",
    "Y_test=test.iloc[:,-1].map(y_values)"
   ]
  },
  {
   "cell_type": "code",
   "execution_count": 21,
   "metadata": {},
   "outputs": [],
   "source": [
    "X_train.fillna(value=0,inplace=True)\n",
    "X_train.replace([np.inf],0,inplace=True)\n",
    "X_test.fillna(value=0,inplace=True)\n",
    "X_test.replace([np.inf],0,inplace=True)"
   ]
  },
  {
   "cell_type": "code",
   "execution_count": 22,
   "metadata": {},
   "outputs": [],
   "source": [
    "X_train=np.array(X_train)\n",
    "Y_train=np.array(Y_train)\n",
    "X_test=np.array(X_test)\n",
    "Y_test=np.array(Y_test)"
   ]
  },
  {
   "cell_type": "code",
   "execution_count": 23,
   "metadata": {},
   "outputs": [
    {
     "name": "stdout",
     "output_type": "stream",
     "text": [
      "(468336, 78) (468336,)\n",
      "(117087, 78) (117087,)\n"
     ]
    }
   ],
   "source": [
    "print(X_train.shape,Y_train.shape)\n",
    "print(X_test.shape,Y_test.shape)"
   ]
  },
  {
   "cell_type": "markdown",
   "metadata": {},
   "source": [
    "### Model Acrhitecture\n",
    "\n",
    "- Dense layer with 1024 units and activation `relu`\n",
    "- Dense layer with 1024 units and activation `relu`\n",
    "- Dense layer with 128 units and activation `relu`\n",
    "- Dense layer with 10 units and activation `softmax`"
   ]
  },
  {
   "cell_type": "markdown",
   "metadata": {},
   "source": [
    "### Compile metrics\n",
    "\n",
    "- Used metrics are:\n",
    "    - Accuracy\n",
    "- Optimizer used:\n",
    "    - Adam\n",
    "- Cost Function used:\n",
    "    - SparseCategoricalCrossEntropy"
   ]
  },
  {
   "cell_type": "code",
   "execution_count": 25,
   "metadata": {},
   "outputs": [],
   "source": [
    "initializer=tf.keras.initializers.RandomNormal(seed=1)\n",
    "\n",
    "model=tf.keras.models.Sequential([\n",
    "    tf.keras.layers.Input(shape=(78,)),\n",
    "    tf.keras.layers.Dense(units=1024,activation='relu',kernel_regularizer=tf.keras.regularizers.L2(0.001),kernel_initializer=initializer),\n",
    "    tf.keras.layers.Dense(units=1024,activation='relu',kernel_regularizer=tf.keras.regularizers.L2(0.001),kernel_initializer=initializer),\n",
    "    tf.keras.layers.Dense(units=128,activation='relu',kernel_regularizer=tf.keras.regularizers.L2(0.001),kernel_initializer=initializer),\n",
    "    tf.keras.layers.Dense(units=9,activation='linear',kernel_regularizer=tf.keras.regularizers.L2(0.001),kernel_initializer=initializer)\n",
    "])\n",
    "\n",
    "model.compile(\n",
    "    loss=tf.keras.losses.SparseCategoricalCrossentropy(from_logits=True),\n",
    "    optimizer=tf.keras.optimizers.Adam(learning_rate=0.0001),\n",
    "    metrics=['accuracy']\n",
    ")"
   ]
  },
  {
   "cell_type": "code",
   "execution_count": 26,
   "metadata": {},
   "outputs": [
    {
     "name": "stdout",
     "output_type": "stream",
     "text": [
      "Model: \"sequential_1\"\n",
      "_________________________________________________________________\n",
      " Layer (type)                Output Shape              Param #   \n",
      "=================================================================\n",
      " dense_4 (Dense)             (None, 1024)              80896     \n",
      "                                                                 \n",
      " dense_5 (Dense)             (None, 1024)              1049600   \n",
      "                                                                 \n",
      " dense_6 (Dense)             (None, 128)               131200    \n",
      "                                                                 \n",
      " dense_7 (Dense)             (None, 9)                 1161      \n",
      "                                                                 \n",
      "=================================================================\n",
      "Total params: 1,262,857\n",
      "Trainable params: 1,262,857\n",
      "Non-trainable params: 0\n",
      "_________________________________________________________________\n"
     ]
    }
   ],
   "source": [
    "model.summary()"
   ]
  },
  {
   "cell_type": "code",
   "execution_count": 27,
   "metadata": {},
   "outputs": [
    {
     "data": {
      "image/png": "[encoded data removed]",
      "text/plain": [
       "<IPython.core.display.Image object>"
      ]
     },
     "execution_count": 27,
     "metadata": {},
     "output_type": "execute_result"
    }
   ],
   "source": [
    "tf.keras.utils.plot_model(model,to_file=\"Softmax_dense_model.png\",show_shapes=True)"
   ]
  },
  {
   "cell_type": "markdown",
   "metadata": {},
   "source": [
    "### Normalization\n",
    "\n",
    "- Normalization is process in which we rescale our data for faster computation\n",
    "- Here we will be using z-score-normalization by implementing `StandardScaler` on the train data "
   ]
  },
  {
   "cell_type": "code",
   "execution_count": 28,
   "metadata": {},
   "outputs": [],
   "source": [
    "scaler=QuantileTransformer()\n",
    "scaler.fit_transform(X_train)\n",
    "X_train_scaled=scaler.transform(X_train)\n",
    "X_test_scaled=scaler.transform(X_test)"
   ]
  },
  {
   "cell_type": "markdown",
   "metadata": {},
   "source": [
    "### Callbacks\n",
    "\n",
    "- Callbacks can be utilized for premature termination of training\n",
    "- Based on conditions, we can set the `self.model.stop_training` boolean to `True`\n",
    "- The conditions can be checked based on real time data from the `logs` parameter that hold the values of loss and other metrics that were configured into the model during the compile statement"
   ]
  },
  {
   "cell_type": "code",
   "execution_count": 29,
   "metadata": {},
   "outputs": [],
   "source": [
    "class myCallback(tf.keras.callbacks.Callback):\n",
    "    def __init__(self):\n",
    "        self.prev_loss=0\n",
    "    def on_epoch_end(self,epoch,logs={}):\n",
    "        model.save(f\"C:/Users/Sagar/Python files_Jupiter/Git Repo Local/IDS_IPS Softmax Classification/Results/DNN models/model_{epoch}.h5\")\n",
    "        if(epoch>0 and logs.get('loss')>self.prev_loss):\n",
    "            print('\\nLearning rate updated')\n",
    "            self.model.optimizer.lr.assign(self.model.optimizer.lr.read_value()*0.1)\n",
    "        self.prev_loss=logs.get('loss')\n",
    "\n",
    "callbacks=myCallback()"
   ]
  },
  {
   "cell_type": "markdown",
   "metadata": {},
   "source": [
    "Fit data to the model"
   ]
  },
  {
   "cell_type": "code",
   "execution_count": 30,
   "metadata": {},
   "outputs": [
    {
     "name": "stdout",
     "output_type": "stream",
     "text": [
      "Epoch 1/20\n",
      "14636/14636 [==============================] - 154s 10ms/step - loss: 0.3605 - accuracy: 0.9850 - val_loss: 0.1423 - val_accuracy: 0.9905\n",
      "Epoch 2/20\n",
      "14636/14636 [==============================] - 136s 9ms/step - loss: 0.1268 - accuracy: 0.9914 - val_loss: 0.1262 - val_accuracy: 0.9903\n",
      "Epoch 3/20\n",
      "14636/14636 [==============================] - 136s 9ms/step - loss: 0.1171 - accuracy: 0.9917 - val_loss: 0.1192 - val_accuracy: 0.9888\n",
      "Epoch 4/20\n",
      "14636/14636 [==============================] - 178s 12ms/step - loss: 0.1133 - accuracy: 0.9920 - val_loss: 0.1248 - val_accuracy: 0.9887\n",
      "Epoch 5/20\n",
      "14636/14636 [==============================] - 172s 12ms/step - loss: 0.1115 - accuracy: 0.9922 - val_loss: 0.1168 - val_accuracy: 0.9884\n",
      "Epoch 6/20\n",
      "14636/14636 [==============================] - 169s 12ms/step - loss: 0.1104 - accuracy: 0.9924 - val_loss: 0.1187 - val_accuracy: 0.9886\n",
      "Epoch 7/20\n",
      "14636/14636 [==============================] - 166s 11ms/step - loss: 0.1096 - accuracy: 0.9924 - val_loss: 0.1155 - val_accuracy: 0.9906\n",
      "Epoch 8/20\n",
      "14636/14636 [==============================] - 161s 11ms/step - loss: 0.1089 - accuracy: 0.9926 - val_loss: 0.1183 - val_accuracy: 0.9906\n",
      "Epoch 9/20\n",
      "14636/14636 [==============================] - 160s 11ms/step - loss: 0.1084 - accuracy: 0.9926 - val_loss: 0.1213 - val_accuracy: 0.9897\n",
      "Epoch 10/20\n",
      "14636/14636 [==============================] - 165s 11ms/step - loss: 0.1081 - accuracy: 0.9927 - val_loss: 0.1137 - val_accuracy: 0.9920\n",
      "Epoch 11/20\n",
      "14636/14636 [==============================] - 166s 11ms/step - loss: 0.1078 - accuracy: 0.9926 - val_loss: 0.1166 - val_accuracy: 0.9896\n",
      "Epoch 12/20\n",
      "14636/14636 [==============================] - 163s 11ms/step - loss: 0.1074 - accuracy: 0.9926 - val_loss: 0.1162 - val_accuracy: 0.9896\n",
      "Epoch 13/20\n",
      "14636/14636 [==============================] - 165s 11ms/step - loss: 0.1072 - accuracy: 0.9928 - val_loss: 0.1165 - val_accuracy: 0.9895\n",
      "Epoch 14/20\n",
      "14636/14636 [==============================] - 164s 11ms/step - loss: 0.1071 - accuracy: 0.9928 - val_loss: 0.1195 - val_accuracy: 0.9892\n",
      "Epoch 15/20\n",
      "14636/14636 [==============================] - 164s 11ms/step - loss: 0.1069 - accuracy: 0.9929 - val_loss: 0.1143 - val_accuracy: 0.9916\n",
      "Epoch 16/20\n",
      "14636/14636 [==============================] - 168s 11ms/step - loss: 0.1066 - accuracy: 0.9930 - val_loss: 0.1146 - val_accuracy: 0.9907\n",
      "Epoch 17/20\n",
      "14636/14636 [==============================] - 165s 11ms/step - loss: 0.1065 - accuracy: 0.9930 - val_loss: 0.1177 - val_accuracy: 0.9904\n",
      "Epoch 18/20\n",
      "14636/14636 [==============================] - 166s 11ms/step - loss: 0.1064 - accuracy: 0.9929 - val_loss: 0.1159 - val_accuracy: 0.9895\n",
      "Epoch 19/20\n",
      "14636/14636 [==============================] - 164s 11ms/step - loss: 0.1063 - accuracy: 0.9929 - val_loss: 0.1188 - val_accuracy: 0.9903\n",
      "Epoch 20/20\n",
      "14636/14636 [==============================] - 155s 11ms/step - loss: 0.1061 - accuracy: 0.9929 - val_loss: 0.1160 - val_accuracy: 0.9882\n"
     ]
    }
   ],
   "source": [
    "history=model.fit(X_train_scaled,Y_train,epochs=20,validation_data=(X_test_scaled,Y_test),callbacks=[callbacks])"
   ]
  },
  {
   "cell_type": "code",
   "execution_count": 31,
   "metadata": {},
   "outputs": [],
   "source": [
    "# Emergency Save\n",
    "model.save(f\"C:/Users/Sagar/Python files_Jupiter/Git Repo Local/IDS_IPS Softmax Classification/Results/DNN models/model_{20}.h5\")"
   ]
  },
  {
   "cell_type": "code",
   "execution_count": 32,
   "metadata": {},
   "outputs": [],
   "source": [
    "import json\n",
    "\n",
    "with open(f\"C:/Users/Sagar/Python files_Jupiter/Git Repo Local/IDS_IPS Softmax Classification/Results/DNN.txt\",\"w\") as file:\n",
    "    file.write(json.dumps(history.params))\n",
    "with open(f\"C:/Users/Sagar/Python files_Jupiter/Git Repo Local/IDS_IPS Softmax Classification/Results/DNN_history.txt\",\"w\") as file:\n",
    "    file.write(json.dumps(history.history))"
   ]
  },
  {
   "cell_type": "code",
   "execution_count": 33,
   "metadata": {},
   "outputs": [],
   "source": [
    "model=tf.keras.models.load_model(f\"C:/Users/Sagar/Python files_Jupiter/Git Repo Local/IDS_IPS Softmax Classification/Results/DNN models/model_{19}.h5\")"
   ]
  },
  {
   "cell_type": "code",
   "execution_count": 34,
   "metadata": {},
   "outputs": [
    {
     "data": {
      "image/png": "[encoded data removed]",
      "text/plain": [
       "<Figure size 640x480 with 1 Axes>"
      ]
     },
     "metadata": {},
     "output_type": "display_data"
    }
   ],
   "source": [
    "plt.plot(range(20),history.history[\"loss\"],color=\"blue\",label=\"Train Loss\")\n",
    "plt.plot(range(20),history.history[\"val_loss\"],color=\"orange\",label=\"Validation Loss\")\n",
    "plt.show()"
   ]
  },
  {
   "cell_type": "code",
   "execution_count": 35,
   "metadata": {},
   "outputs": [
    {
     "data": {
      "image/png": "[encoded data removed]",
      "text/plain": [
       "<Figure size 640x480 with 1 Axes>"
      ]
     },
     "metadata": {},
     "output_type": "display_data"
    }
   ],
   "source": [
    "plt.plot(range(20),history.history[\"accuracy\"],color=\"blue\",label=\"Train Accuracy\")\n",
    "plt.plot(range(20),history.history[\"val_accuracy\"],color=\"orange\",label=\"Validation Accuracy\")\n",
    "plt.show()"
   ]
  },
  {
   "cell_type": "markdown",
   "metadata": {},
   "source": [
    "Evaluate the metrics for each set"
   ]
  },
  {
   "cell_type": "code",
   "execution_count": 36,
   "metadata": {},
   "outputs": [
    {
     "name": "stdout",
     "output_type": "stream",
     "text": [
      "14636/14636 [==============================] - 86s 6ms/step - loss: 0.1062 - accuracy: 0.9923\n",
      "3659/3659 [==============================] - 20s 6ms/step - loss: 0.1160 - accuracy: 0.9882\n"
     ]
    },
    {
     "data": {
      "text/plain": [
       "[0.11603362113237381, 0.9882480502128601]"
      ]
     },
     "execution_count": 36,
     "metadata": {},
     "output_type": "execute_result"
    }
   ],
   "source": [
    "model.evaluate(X_train_scaled,Y_train)\n",
    "model.evaluate(X_test_scaled,Y_test)"
   ]
  },
  {
   "cell_type": "code",
   "execution_count": 37,
   "metadata": {},
   "outputs": [
    {
     "name": "stdout",
     "output_type": "stream",
     "text": [
      "3659/3659 [==============================] - 11s 3ms/step\n"
     ]
    },
    {
     "data": {
      "text/plain": [
       "TensorShape([117087, 9])"
      ]
     },
     "execution_count": 37,
     "metadata": {},
     "output_type": "execute_result"
    }
   ],
   "source": [
    "y_predict=tf.nn.softmax(model.predict(X_test_scaled))\n",
    "y_predict.shape"
   ]
  },
  {
   "cell_type": "code",
   "execution_count": 38,
   "metadata": {},
   "outputs": [
    {
     "data": {
      "text/plain": [
       "(117087,)"
      ]
     },
     "execution_count": 38,
     "metadata": {},
     "output_type": "execute_result"
    }
   ],
   "source": [
    "y_predict=np.argmax(y_predict,axis=1)\n",
    "y_predict.shape"
   ]
  },
  {
   "cell_type": "code",
   "execution_count": 43,
   "metadata": {},
   "outputs": [
    {
     "data": {
      "text/plain": [
       "<tf.Tensor: shape=(9, 9), dtype=int32, numpy=\n",
       "array([[79835,     3,     0,     0,    85,     0,     9,    68,     0],\n",
       "       [   13,  9987,     0,     0,     0,     0,     0,     0,     0],\n",
       "       [   12,     0,  9988,     0,     0,     0,     0,     0,     0],\n",
       "       [    0,     0,     0,  1576,     0,     1,     0,    11,     0],\n",
       "       [    1,     0,     0,     0,  1175,     0,     0,     4,     0],\n",
       "       [   65,     0,     0,     0,     0,   732,   363,     0,     0],\n",
       "       [    8,     0,     0,     0,    17,    21,  1054,     0,     0],\n",
       "       [  489,     0,     0,     0,     0,     0,     0,  9510,     1],\n",
       "       [  184,     1,     0,     0,     0,     5,     0,    15,  1854]])>"
      ]
     },
     "execution_count": 43,
     "metadata": {},
     "output_type": "execute_result"
    }
   ],
   "source": [
    "confusion_matrix=tf.math.confusion_matrix(Y_test,y_predict)\n",
    "confusion_matrix"
   ]
  },
  {
   "cell_type": "code",
   "execution_count": 46,
   "metadata": {},
   "outputs": [],
   "source": [
    "from mlxtend.plotting import plot_confusion_matrix"
   ]
  },
  {
   "cell_type": "code",
   "execution_count": 52,
   "metadata": {},
   "outputs": [
    {
     "data": {
      "image/png": "[encoded data removed]",
      "text/plain": [
       "<Figure size 640x480 with 1 Axes>"
      ]
     },
     "metadata": {},
     "output_type": "display_data"
    }
   ],
   "source": [
    "fig,ax=plot_confusion_matrix(confusion_matrix.numpy())\n",
    "plt.show()"
   ]
  },
  {
   "cell_type": "code",
   "execution_count": 40,
   "metadata": {},
   "outputs": [
    {
     "data": {
      "text/plain": [
       "7    490\n",
       "5    428\n",
       "8    205\n",
       "0    165\n",
       "6     46\n",
       "1     13\n",
       "2     12\n",
       "3     12\n",
       "4      5\n",
       "Name: count, dtype: int64"
      ]
     },
     "execution_count": 40,
     "metadata": {},
     "output_type": "execute_result"
    }
   ],
   "source": [
    "pd.DataFrame(Y_test[np.where(y_predict!=Y_test)]).value_counts()"
   ]
  },
  {
   "cell_type": "code",
   "execution_count": 41,
   "metadata": {},
   "outputs": [
    {
     "data": {
      "text/plain": [
       "0    772\n",
       "6    372\n",
       "4    102\n",
       "7     98\n",
       "5     27\n",
       "1      4\n",
       "8      1\n",
       "Name: count, dtype: int64"
      ]
     },
     "execution_count": 41,
     "metadata": {},
     "output_type": "execute_result"
    }
   ],
   "source": [
    "pd.DataFrame(y_predict[np.where(y_predict!=Y_test)]).value_counts()"
   ]
  },
  {
   "cell_type": "code",
   "execution_count": null,
   "metadata": {},
   "outputs": [],
   "source": []
  }
 ],
 "metadata": {
  "kernelspec": {
   "display_name": "py39",
   "language": "python",
   "name": "python3"
  },
  "language_info": {
   "codemirror_mode": {
    "name": "ipython",
    "version": 3
   },
   "file_extension": ".py",
   "mimetype": "text/x-python",
   "name": "python",
   "nbconvert_exporter": "python",
   "pygments_lexer": "ipython3",
   "version": "3.9.17"
  },
  "orig_nbformat": 4
 },
 "nbformat": 4,
 "nbformat_minor": 2
}
