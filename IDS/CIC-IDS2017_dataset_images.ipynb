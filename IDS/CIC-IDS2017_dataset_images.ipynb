{
 "cells": [
  {
   "cell_type": "code",
   "execution_count": 12,
   "metadata": {},
   "outputs": [],
   "source": [
    "import numpy as np\n",
    "import pandas as pd\n",
    "import tensorflow as tf\n",
    "import matplotlib.pyplot as plt\n",
    "import os\n",
    "from sklearn.preprocessing import QuantileTransformer"
   ]
  },
  {
   "cell_type": "code",
   "execution_count": 13,
   "metadata": {},
   "outputs": [],
   "source": [
    "train=pd.read_csv(r\"C:\\Users\\Sagar\\Python files_Jupiter\\Git Repo Local\\IDS_IPS Softmax Classification\\Datasets\\Final Datasets\\train.csv\")\n",
    "test=pd.read_csv(r\"C:\\Users\\Sagar\\Python files_Jupiter\\Git Repo Local\\IDS_IPS Softmax Classification\\Datasets\\Final Datasets\\test.csv\")"
   ]
  },
  {
   "cell_type": "code",
   "execution_count": 14,
   "metadata": {},
   "outputs": [],
   "source": [
    "y_values={\n",
    "    \"BENIGN\": 0,\n",
    "    \"DDoS\": 1,\n",
    "    \"PortScan\": 2,\n",
    "    \"FTP-Patator\": 3,\n",
    "    \"SSH-Patator\": 4,\n",
    "    \"DoS slowloris\": 5,\n",
    "    \"DoS Slowhttptest\": 6,\n",
    "    \"DoS Hulk\": 7,\n",
    "    \"DoS GoldenEye\": 8,\n",
    "}"
   ]
  },
  {
   "cell_type": "code",
   "execution_count": 15,
   "metadata": {},
   "outputs": [],
   "source": [
    "X_train=train.iloc[:,0:-1]\n",
    "Y_train=train.iloc[:,-1].map(y_values)\n",
    "X_test=test.iloc[:,0:-1]\n",
    "Y_test=test.iloc[:,-1].map(y_values)"
   ]
  },
  {
   "cell_type": "code",
   "execution_count": 16,
   "metadata": {},
   "outputs": [],
   "source": [
    "X_train.fillna(value=0,inplace=True)\n",
    "X_train.replace([np.inf],0,inplace=True)\n",
    "X_test.fillna(value=0,inplace=True)\n",
    "X_test.replace([np.inf],0,inplace=True)"
   ]
  },
  {
   "cell_type": "code",
   "execution_count": 17,
   "metadata": {},
   "outputs": [],
   "source": [
    "X_train=np.array(X_train)\n",
    "Y_train=np.array(Y_train)\n",
    "X_test=np.array(X_test)\n",
    "Y_test=np.array(Y_test)"
   ]
  },
  {
   "cell_type": "code",
   "execution_count": 18,
   "metadata": {},
   "outputs": [
    {
     "name": "stdout",
     "output_type": "stream",
     "text": [
      "(468336, 78) (468336,)\n",
      "(117087, 78) (117087,)\n"
     ]
    }
   ],
   "source": [
    "print(X_train.shape,Y_train.shape)\n",
    "print(X_test.shape,Y_test.shape)"
   ]
  },
  {
   "cell_type": "code",
   "execution_count": 19,
   "metadata": {},
   "outputs": [],
   "source": [
    "scaler=QuantileTransformer()\n",
    "scaler.fit_transform(X_train)\n",
    "X_train_scaled=scaler.transform(X_train)\n",
    "X_test_scaled=scaler.transform(X_test)"
   ]
  },
  {
   "cell_type": "code",
   "execution_count": 23,
   "metadata": {},
   "outputs": [],
   "source": [
    "image=[]\n",
    "label=np.array([0,0,0,0,0,0,0,0,0],dtype=int)\n",
    "count=0\n",
    "index=0\n",
    "\n",
    "for i,x in enumerate(X_train_scaled):\n",
    "    if count<26:\n",
    "        label[Y_train[i]]=1\n",
    "        image.append(x)\n",
    "        count+=1\n",
    "    else:\n",
    "        if np.sum(label)==1:\n",
    "            arr=(np.array(image)).reshape(26,26,3)\n",
    "            img=tf.keras.utils.array_to_img(arr)\n",
    "            y_val=np.argmax(label)\n",
    "            \n",
    "            tf.keras.utils.save_img(f\"C:/Users/Sagar/Python files_Jupiter/Git Repo Local/IDS_IPS Softmax Classification/Datasets/Final Datasets/Train/Images/{y_val}/img_{str(index)}_{str(y_val)}.png\",img)\n",
    "            with open(os.path.join(r\"C:\\Users\\Sagar\\Python files_Jupiter\\Git Repo Local\\IDS_IPS Softmax Classification\\Datasets\\Final Datasets\\Train\\Labels\",\"train_img.csv\"),\"ab\") as file:\n",
    "                np.savetxt(file,[label],fmt='%d',delimiter=\",\")\n",
    "            index+=1\n",
    "            \n",
    "        image=[]\n",
    "        label*=0\n",
    "        image.append(x)\n",
    "        count=1\n"
   ]
  },
  {
   "cell_type": "code",
   "execution_count": 24,
   "metadata": {},
   "outputs": [],
   "source": [
    "image=[]\n",
    "label=np.array([0,0,0,0,0,0,0,0,0],dtype=int)\n",
    "count=0\n",
    "index=0\n",
    "\n",
    "for i,x in enumerate(X_test_scaled):\n",
    "    if count<26:\n",
    "        label[Y_test[i]]=1\n",
    "        image.append(x)\n",
    "        count+=1\n",
    "    else:\n",
    "        if np.sum(label)==1:\n",
    "            arr=(np.array(image)).reshape(26,26,3)\n",
    "            img=tf.keras.utils.array_to_img(arr)\n",
    "            y_val=np.argmax(label)\n",
    "            \n",
    "            tf.keras.utils.save_img(f\"C:/Users/Sagar/Python files_Jupiter/Git Repo Local/IDS_IPS Softmax Classification/Datasets/Final Datasets/Test/Images/{y_val}/img_{str(index)}_{str(y_val)}.png\",img)\n",
    "            with open(os.path.join(r\"C:\\Users\\Sagar\\Python files_Jupiter\\Git Repo Local\\IDS_IPS Softmax Classification\\Datasets\\Final Datasets\\Test\\Labels\",\"test_img.csv\"),\"ab\") as file:\n",
    "                np.savetxt(file,[label],fmt='%d',delimiter=\",\")\n",
    "            index+=1\n",
    "\n",
    "        image=[]\n",
    "        label*=0\n",
    "        image.append(x)\n",
    "        count=1\n"
   ]
  },
  {
   "cell_type": "code",
   "execution_count": null,
   "metadata": {},
   "outputs": [],
   "source": []
  }
 ],
 "metadata": {
  "kernelspec": {
   "display_name": "py39",
   "language": "python",
   "name": "python3"
  },
  "language_info": {
   "codemirror_mode": {
    "name": "ipython",
    "version": 3
   },
   "file_extension": ".py",
   "mimetype": "text/x-python",
   "name": "python",
   "nbconvert_exporter": "python",
   "pygments_lexer": "ipython3",
   "version": "3.9.17"
  },
  "orig_nbformat": 4
 },
 "nbformat": 4,
 "nbformat_minor": 2
}
