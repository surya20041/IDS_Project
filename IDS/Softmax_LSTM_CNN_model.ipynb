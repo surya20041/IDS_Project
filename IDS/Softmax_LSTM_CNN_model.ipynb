{
 "cells": [
  {
   "cell_type": "code",
   "execution_count": 1,
   "metadata": {},
   "outputs": [],
   "source": [
    "import numpy as np\n",
    "import pandas as pd\n",
    "import tensorflow as tf\n",
    "import matplotlib.pyplot as plt\n",
    "from tensorflow.keras.layers import Input, Dense, LSTM, Activation, Reshape, Concatenate, BatchNormalization, LayerNormalization, Conv2D, MaxPool2D\n",
    "from tensorflow.keras.models import Model\n",
    "import os"
   ]
  },
  {
   "cell_type": "code",
   "execution_count": 2,
   "metadata": {},
   "outputs": [],
   "source": [
    "context_window=(26,26)\n",
    "batch_size=32"
   ]
  },
  {
   "cell_type": "code",
   "execution_count": 3,
   "metadata": {},
   "outputs": [
    {
     "name": "stdout",
     "output_type": "stream",
     "text": [
      "Found 18001 files belonging to 9 classes.\n"
     ]
    }
   ],
   "source": [
    "train_dataset=tf.keras.utils.image_dataset_from_directory(\n",
    "    r\"C:\\Users\\Sagar\\Python files_Jupiter\\Git Repo Local\\IDS_IPS Softmax Classification\\Datasets\\Final Datasets\\Train\\Images\",\n",
    "    color_mode='rgb',\n",
    "    image_size=context_window,\n",
    "    batch_size=128,\n",
    "    shuffle=False,\n",
    ")"
   ]
  },
  {
   "cell_type": "code",
   "execution_count": 4,
   "metadata": {},
   "outputs": [
    {
     "name": "stdout",
     "output_type": "stream",
     "text": [
      "Found 4493 files belonging to 9 classes.\n"
     ]
    }
   ],
   "source": [
    "test_dataset=tf.keras.utils.image_dataset_from_directory(\n",
    "    r\"C:\\Users\\Sagar\\Python files_Jupiter\\Git Repo Local\\IDS_IPS Softmax Classification\\Datasets\\Final Datasets\\Test\\Images\",\n",
    "    color_mode='rgb',\n",
    "    image_size=context_window,\n",
    "    batch_size=128,\n",
    "    shuffle=False,\n",
    ")"
   ]
  },
  {
   "cell_type": "code",
   "execution_count": 2,
   "metadata": {},
   "outputs": [],
   "source": [
    "def CNN_model():\n",
    "    initializers=tf.keras.initializers.RandomNormal(seed=1)\n",
    "\n",
    "    model = tf.keras.models.Sequential([\n",
    "        tf.keras.layers.Input(shape=(26,26,3)),\n",
    "        tf.keras.layers.Conv2D(16,kernel_size=(1,3),strides=(1,1),padding=\"same\",kernel_initializer=initializers),\n",
    "        tf.keras.layers.LeakyReLU(0.2),\n",
    "        tf.keras.layers.Conv2D(16,kernel_size=(1,3),strides=(1,1),padding=\"same\",kernel_initializer=initializers),\n",
    "        tf.keras.layers.LeakyReLU(0.2),\n",
    "        tf.keras.layers.Conv2D(16,kernel_size=(1,3),strides=(1,1),padding=\"same\",kernel_initializer=initializers),\n",
    "    ])\n",
    "\n",
    "    return model"
   ]
  },
  {
   "cell_type": "code",
   "execution_count": 3,
   "metadata": {},
   "outputs": [],
   "source": [
    "def LSTM_model(input_shape=(26,26,3),n_a=512, n_values=9, context_window=26):\n",
    "    initializers = tf.keras.initializers.RandomNormal(seed=1)\n",
    "\n",
    "    reshaper = Reshape((1,input_shape[1]*input_shape[2]))\n",
    "    LSTMcell = LSTM(n_a, return_state=True, kernel_initializer=initializers)\n",
    "    Densor1 = Dense(n_a/2, kernel_initializer=initializers, activation=\"relu\")\n",
    "    Densor2 = Dense(n_a/4,kernel_initializer=initializers,activation=\"relu\")\n",
    "    concat = Concatenate(axis=-1)\n",
    "    Densor_softmax = Dense(n_values, kernel_initializer=initializers, activation='linear')\n",
    "    inputs = Input(shape=input_shape)\n",
    "    outputs = []\n",
    "    for i in range(context_window):\n",
    "        x = inputs[:, i, :, :]\n",
    "        x = reshaper(x)\n",
    "        if i==0:\n",
    "            _, a, c = LSTMcell(x)\n",
    "        else:\n",
    "            _, a, c = LSTMcell(x,initial_state=[a,c])\n",
    "        out = Densor1(a)\n",
    "        out = Densor2(out)\n",
    "        outputs.append(out)\n",
    "    outputs = concat(outputs)\n",
    "    outputs = Densor_softmax(outputs)\n",
    "\n",
    "    model = Model(inputs=[inputs], outputs=[outputs])\n",
    "\n",
    "    return model"
   ]
  },
  {
   "cell_type": "code",
   "execution_count": 4,
   "metadata": {},
   "outputs": [],
   "source": [
    "def CNN_LSTM_model():\n",
    "    input = Input(shape=(26,26,3))\n",
    "    x = CNN_model()(input)\n",
    "    output = LSTM_model((26,26,16),512,9,26)(x)\n",
    "    \n",
    "    model = Model(inputs=[input],outputs=[output])\n",
    "\n",
    "    model.compile(\n",
    "        loss=tf.keras.losses.SparseCategoricalCrossentropy(from_logits=True),\n",
    "        optimizer=tf.keras.optimizers.Adam(learning_rate=0.0001),\n",
    "        metrics=['accuracy']\n",
    "    )\n",
    "\n",
    "    return model"
   ]
  },
  {
   "cell_type": "code",
   "execution_count": 5,
   "metadata": {},
   "outputs": [],
   "source": [
    "model = CNN_LSTM_model()"
   ]
  },
  {
   "cell_type": "code",
   "execution_count": 6,
   "metadata": {},
   "outputs": [
    {
     "name": "stdout",
     "output_type": "stream",
     "text": [
      "Model: \"model_1\"\n",
      "_________________________________________________________________\n",
      " Layer (type)                Output Shape              Param #   \n",
      "=================================================================\n",
      " input_1 (InputLayer)        [(None, 26, 26, 3)]       0         \n",
      "                                                                 \n",
      " sequential (Sequential)     (None, 26, 26, 16)        1728      \n",
      "                                                                 \n",
      " model (Functional)          (None, 9)                 2096777   \n",
      "                                                                 \n",
      "=================================================================\n",
      "Total params: 2,098,505\n",
      "Trainable params: 2,098,505\n",
      "Non-trainable params: 0\n",
      "_________________________________________________________________\n"
     ]
    }
   ],
   "source": [
    "model.summary()"
   ]
  },
  {
   "cell_type": "code",
   "execution_count": 7,
   "metadata": {},
   "outputs": [
    {
     "data": {
      "image/png": "[encoded data removed]",
      "text/plain": [
       "<IPython.core.display.Image object>"
      ]
     },
     "execution_count": 7,
     "metadata": {},
     "output_type": "execute_result"
    }
   ],
   "source": [
    "tf.keras.utils.plot_model(model,to_file=\"Softmax_LSTM_CNN_model.png\",show_shapes=True)"
   ]
  },
  {
   "cell_type": "code",
   "execution_count": 27,
   "metadata": {},
   "outputs": [],
   "source": [
    "class myCallback(tf.keras.callbacks.Callback):\n",
    "    def __init__(self):\n",
    "        self.prev_loss=0\n",
    "    def on_epoch_end(self,epoch,logs={}):\n",
    "        model.save(f\"C:/Users/Sagar/Python files_Jupiter/Git Repo Local/IDS_IPS Softmax Classification/Results/CNN_LSTM models/model_{epoch}.h5\")\n",
    "        if(epoch>0 and logs.get('loss')>=self.prev_loss):\n",
    "            print('\\nLearning rate updated')\n",
    "            self.model.optimizer.lr.assign(self.model.optimizer.lr.read_value()*0.1)\n",
    "        self.prev_loss=logs.get('loss')\n",
    "\n",
    "callbacks=myCallback()"
   ]
  },
  {
   "cell_type": "code",
   "execution_count": 28,
   "metadata": {},
   "outputs": [
    {
     "name": "stdout",
     "output_type": "stream",
     "text": [
      "Epoch 1/30\n"
     ]
    },
    {
     "name": "stdout",
     "output_type": "stream",
     "text": [
      "141/141 [==============================] - 103s 292ms/step - loss: 1.0444 - accuracy: 0.7648 - val_loss: 2.0864 - val_accuracy: 0.1696\n",
      "Epoch 2/30\n",
      "141/141 [==============================] - 24s 171ms/step - loss: 0.7227 - accuracy: 0.7931 - val_loss: 1.5332 - val_accuracy: 0.3933\n",
      "Epoch 3/30\n",
      "141/141 [==============================] - 24s 169ms/step - loss: 0.6384 - accuracy: 0.8079 - val_loss: 1.1074 - val_accuracy: 0.5965\n",
      "Epoch 4/30\n",
      "141/141 [==============================] - 24s 172ms/step - loss: 0.5555 - accuracy: 0.8165 - val_loss: 0.6828 - val_accuracy: 0.7650\n",
      "Epoch 5/30\n",
      "141/141 [==============================] - 24s 169ms/step - loss: 0.3985 - accuracy: 0.8611 - val_loss: 0.4578 - val_accuracy: 0.8400\n",
      "Epoch 6/30\n",
      "141/141 [==============================] - 25s 179ms/step - loss: 0.3119 - accuracy: 0.8958 - val_loss: 0.3617 - val_accuracy: 0.8511\n",
      "Epoch 7/30\n",
      "141/141 [==============================] - 27s 193ms/step - loss: 0.2014 - accuracy: 0.9291 - val_loss: 0.2046 - val_accuracy: 0.9027\n",
      "Epoch 8/30\n",
      "141/141 [==============================] - 27s 189ms/step - loss: 0.1229 - accuracy: 0.9543 - val_loss: 0.0723 - val_accuracy: 0.9806\n",
      "Epoch 9/30\n",
      "141/141 [==============================] - 24s 171ms/step - loss: 0.0355 - accuracy: 0.9913 - val_loss: 0.0311 - val_accuracy: 0.9927\n",
      "Epoch 10/30\n",
      "141/141 [==============================] - 24s 174ms/step - loss: 0.0213 - accuracy: 0.9943 - val_loss: 0.0170 - val_accuracy: 0.9933\n",
      "Epoch 11/30\n",
      "141/141 [==============================] - 25s 178ms/step - loss: 0.0097 - accuracy: 0.9964 - val_loss: 0.0169 - val_accuracy: 0.9962\n",
      "Epoch 12/30\n",
      "141/141 [==============================] - 26s 183ms/step - loss: 0.0054 - accuracy: 0.9993 - val_loss: 0.0144 - val_accuracy: 0.9962\n",
      "Epoch 13/30\n",
      "141/141 [==============================] - 25s 177ms/step - loss: 0.0033 - accuracy: 0.9995 - val_loss: 0.0142 - val_accuracy: 0.9962\n",
      "Epoch 14/30\n",
      "141/141 [==============================] - 25s 178ms/step - loss: 0.0026 - accuracy: 0.9996 - val_loss: 0.0145 - val_accuracy: 0.9962\n",
      "Epoch 15/30\n",
      "141/141 [==============================] - 26s 186ms/step - loss: 0.0022 - accuracy: 0.9996 - val_loss: 0.0148 - val_accuracy: 0.9962\n",
      "Epoch 16/30\n",
      "141/141 [==============================] - 25s 174ms/step - loss: 0.0019 - accuracy: 0.9996 - val_loss: 0.0151 - val_accuracy: 0.9962\n",
      "Epoch 17/30\n",
      "141/141 [==============================] - 26s 185ms/step - loss: 0.0017 - accuracy: 0.9996 - val_loss: 0.0155 - val_accuracy: 0.9962\n",
      "Epoch 18/30\n",
      "141/141 [==============================] - 25s 177ms/step - loss: 0.0015 - accuracy: 0.9997 - val_loss: 0.0157 - val_accuracy: 0.9962\n",
      "Epoch 19/30\n",
      "141/141 [==============================] - 25s 175ms/step - loss: 0.0014 - accuracy: 0.9997 - val_loss: 0.0162 - val_accuracy: 0.9962\n",
      "Epoch 20/30\n",
      "141/141 [==============================] - ETA: 0s - loss: 0.0014 - accuracy: 0.9996\n",
      "Learning rate updated\n",
      "141/141 [==============================] - 25s 175ms/step - loss: 0.0014 - accuracy: 0.9996 - val_loss: 0.0157 - val_accuracy: 0.9962\n",
      "Epoch 21/30\n",
      "141/141 [==============================] - 26s 182ms/step - loss: 0.0014 - accuracy: 0.9999 - val_loss: 0.0158 - val_accuracy: 0.9962\n",
      "Epoch 22/30\n",
      "141/141 [==============================] - 25s 178ms/step - loss: 0.0011 - accuracy: 0.9997 - val_loss: 0.0159 - val_accuracy: 0.9962\n",
      "Epoch 23/30\n",
      "141/141 [==============================] - 25s 178ms/step - loss: 0.0010 - accuracy: 0.9997 - val_loss: 0.0159 - val_accuracy: 0.9962\n",
      "Epoch 24/30\n",
      "141/141 [==============================] - 25s 181ms/step - loss: 9.4504e-04 - accuracy: 0.9997 - val_loss: 0.0160 - val_accuracy: 0.9962\n",
      "Epoch 25/30\n",
      "141/141 [==============================] - 25s 179ms/step - loss: 9.0100e-04 - accuracy: 0.9998 - val_loss: 0.0160 - val_accuracy: 0.9962\n",
      "Epoch 26/30\n",
      "141/141 [==============================] - 25s 180ms/step - loss: 8.6853e-04 - accuracy: 0.9998 - val_loss: 0.0160 - val_accuracy: 0.9962\n",
      "Epoch 27/30\n",
      "141/141 [==============================] - 27s 191ms/step - loss: 8.3957e-04 - accuracy: 0.9998 - val_loss: 0.0161 - val_accuracy: 0.9962\n",
      "Epoch 28/30\n",
      "141/141 [==============================] - 27s 191ms/step - loss: 8.1105e-04 - accuracy: 0.9998 - val_loss: 0.0162 - val_accuracy: 0.9962\n",
      "Epoch 29/30\n",
      "141/141 [==============================] - 25s 180ms/step - loss: 7.8300e-04 - accuracy: 0.9998 - val_loss: 0.0162 - val_accuracy: 0.9962\n",
      "Epoch 30/30\n",
      "141/141 [==============================] - 25s 178ms/step - loss: 7.5485e-04 - accuracy: 0.9998 - val_loss: 0.0163 - val_accuracy: 0.9962\n"
     ]
    }
   ],
   "source": [
    "history=model.fit(train_dataset,validation_data=test_dataset,batch_size=128,epochs=30,callbacks=[callbacks])"
   ]
  },
  {
   "cell_type": "code",
   "execution_count": 29,
   "metadata": {},
   "outputs": [],
   "source": [
    "# Emergency Save\n",
    "model.save(f\"C:/Users/Sagar/Python files_Jupiter/Git Repo Local/IDS_IPS Softmax Classification/Results/CNN_LSTM models/model_{30}.h5\")"
   ]
  },
  {
   "cell_type": "code",
   "execution_count": 30,
   "metadata": {},
   "outputs": [],
   "source": [
    "import json\n",
    "\n",
    "with open(f\"C:/Users/Sagar/Python files_Jupiter/Git Repo Local/IDS_IPS Softmax Classification/Results/CNN_LSTM.txt\",\"w\") as file:\n",
    "    file.write(json.dumps(history.params))\n",
    "with open(f\"C:/Users/Sagar/Python files_Jupiter/Git Repo Local/IDS_IPS Softmax Classification/Results/CNN_LSTM_history.txt\",\"w\") as file:\n",
    "    file.write(json.dumps(history.history))"
   ]
  },
  {
   "cell_type": "code",
   "execution_count": 5,
   "metadata": {},
   "outputs": [],
   "source": [
    "model=tf.keras.models.load_model(f\"C:/Users/Sagar/Python files_Jupiter/Git Repo Local/IDS_IPS Softmax Classification/Results/CNN_LSTM models/model_{29}.h5\")"
   ]
  },
  {
   "cell_type": "code",
   "execution_count": 32,
   "metadata": {},
   "outputs": [
    {
     "data": {
      "image/png": "[encoded data removed]",
      "text/plain": [
       "<Figure size 640x480 with 1 Axes>"
      ]
     },
     "metadata": {},
     "output_type": "display_data"
    }
   ],
   "source": [
    "plt.plot(range(30),history.history[\"loss\"],color=\"blue\",label=\"Train Loss\")\n",
    "plt.plot(range(30),history.history[\"val_loss\"],color=\"orange\",label=\"Validation Loss\")\n",
    "plt.show()"
   ]
  },
  {
   "cell_type": "code",
   "execution_count": 33,
   "metadata": {},
   "outputs": [
    {
     "data": {
      "image/png": "[encoded data removed]",
      "text/plain": [
       "<Figure size 640x480 with 1 Axes>"
      ]
     },
     "metadata": {},
     "output_type": "display_data"
    }
   ],
   "source": [
    "plt.plot(range(30),history.history[\"accuracy\"],color=\"blue\",label=\"Train Accuracy\")\n",
    "plt.plot(range(30),history.history[\"val_accuracy\"],color=\"orange\",label=\"Validation Accuracy\")\n",
    "plt.show()"
   ]
  },
  {
   "cell_type": "code",
   "execution_count": 6,
   "metadata": {},
   "outputs": [
    {
     "name": "stdout",
     "output_type": "stream",
     "text": [
      "141/141 [==============================] - 35s 73ms/step - loss: 7.0862e-04 - accuracy: 0.9999\n",
      "36/36 [==============================] - 3s 75ms/step - loss: 0.0163 - accuracy: 0.9962\n"
     ]
    },
    {
     "data": {
      "text/plain": [
       "[0.01628781482577324, 0.996216356754303]"
      ]
     },
     "execution_count": 6,
     "metadata": {},
     "output_type": "execute_result"
    }
   ],
   "source": [
    "model.evaluate(train_dataset)\n",
    "model.evaluate(test_dataset)"
   ]
  },
  {
   "cell_type": "code",
   "execution_count": 7,
   "metadata": {},
   "outputs": [],
   "source": [
    "Y_test=np.concatenate([y for x,y in test_dataset],axis=0)"
   ]
  },
  {
   "cell_type": "code",
   "execution_count": 8,
   "metadata": {},
   "outputs": [
    {
     "name": "stdout",
     "output_type": "stream",
     "text": [
      "36/36 [==============================] - 17s 69ms/step\n"
     ]
    }
   ],
   "source": [
    "y_predict=np.argmax(tf.nn.softmax(model.predict(test_dataset)),axis=1)"
   ]
  },
  {
   "cell_type": "code",
   "execution_count": 9,
   "metadata": {},
   "outputs": [
    {
     "data": {
      "text/plain": [
       "<tf.Tensor: shape=(9, 9), dtype=int32, numpy=\n",
       "array([[3073,    0,    0,    0,    0,    0,    0,    0,    0],\n",
       "       [   0,  383,    0,    0,    0,    0,    0,    1,    0],\n",
       "       [   0,    0,  384,    0,    0,    0,    0,    0,    0],\n",
       "       [   0,    0,    0,   59,    0,    0,    0,    0,    1],\n",
       "       [   0,    0,    0,    0,   45,    0,    0,    0,    0],\n",
       "       [   0,    0,    0,    0,    0,   30,   14,    0,    0],\n",
       "       [   0,    0,    0,    0,    0,    0,   41,    0,    0],\n",
       "       [   0,    0,    0,    0,    0,    0,    0,  384,    0],\n",
       "       [   1,    0,    0,    0,    0,    0,    0,    0,   77]])>"
      ]
     },
     "execution_count": 9,
     "metadata": {},
     "output_type": "execute_result"
    }
   ],
   "source": [
    "confusion_matrix=tf.math.confusion_matrix(Y_test,y_predict)\n",
    "confusion_matrix"
   ]
  },
  {
   "cell_type": "code",
   "execution_count": 10,
   "metadata": {},
   "outputs": [],
   "source": [
    "from mlxtend.plotting import plot_confusion_matrix"
   ]
  },
  {
   "cell_type": "code",
   "execution_count": 11,
   "metadata": {},
   "outputs": [
    {
     "data": {
      "image/png": "[encoded data removed]",
      "text/plain": [
       "<Figure size 640x480 with 1 Axes>"
      ]
     },
     "metadata": {},
     "output_type": "display_data"
    }
   ],
   "source": [
    "fig,ax=plot_confusion_matrix(confusion_matrix.numpy())\n",
    "plt.show()"
   ]
  },
  {
   "cell_type": "code",
   "execution_count": null,
   "metadata": {},
   "outputs": [],
   "source": []
  }
 ],
 "metadata": {
  "kernelspec": {
   "display_name": "py39",
   "language": "python",
   "name": "python3"
  },
  "language_info": {
   "codemirror_mode": {
    "name": "ipython",
    "version": 3
   },
   "file_extension": ".py",
   "mimetype": "text/x-python",
   "name": "python",
   "nbconvert_exporter": "python",
   "pygments_lexer": "ipython3",
   "version": "3.9.17"
  }
 },
 "nbformat": 4,
 "nbformat_minor": 2
}
