{
 "cells": [
  {
   "cell_type": "code",
   "execution_count": 1,
   "metadata": {},
   "outputs": [],
   "source": [
    "import numpy as np\n",
    "import pandas as pd\n",
    "import tensorflow as tf\n",
    "import matplotlib.pyplot as plt\n",
    "from tensorflow.keras.layers import Input, Dense, LSTM, Activation, Reshape, Concatenate, BatchNormalization, LayerNormalization, Conv2D, MaxPool2D, Dropout\n",
    "from tensorflow.keras.models import Model\n",
    "import os"
   ]
  },
  {
   "cell_type": "code",
   "execution_count": 2,
   "metadata": {},
   "outputs": [],
   "source": [
    "context_window=(26,26)\n",
    "batch_size=32"
   ]
  },
  {
   "cell_type": "code",
   "execution_count": 3,
   "metadata": {},
   "outputs": [
    {
     "name": "stdout",
     "output_type": "stream",
     "text": [
      "Found 18001 files belonging to 9 classes.\n"
     ]
    }
   ],
   "source": [
    "train_dataset=tf.keras.utils.image_dataset_from_directory(\n",
    "    r\"C:\\Users\\Sagar\\Python files_Jupiter\\Git Repo Local\\IDS_IPS Softmax Classification\\Datasets\\Final Datasets\\Train\\Images\",\n",
    "    color_mode='rgb',\n",
    "    image_size=context_window,\n",
    "    batch_size=128,\n",
    "    shuffle=True,\n",
    ")"
   ]
  },
  {
   "cell_type": "code",
   "execution_count": 21,
   "metadata": {},
   "outputs": [
    {
     "name": "stdout",
     "output_type": "stream",
     "text": [
      "Found 4493 files belonging to 9 classes.\n"
     ]
    }
   ],
   "source": [
    "test_dataset=tf.keras.utils.image_dataset_from_directory(\n",
    "    r\"C:\\Users\\Sagar\\Python files_Jupiter\\Git Repo Local\\IDS_IPS Softmax Classification\\Datasets\\Final Datasets\\Test\\Images\",\n",
    "    color_mode='rgb',\n",
    "    image_size=context_window,\n",
    "    batch_size=128,\n",
    "    shuffle=False,\n",
    ")"
   ]
  },
  {
   "cell_type": "code",
   "execution_count": 5,
   "metadata": {},
   "outputs": [],
   "source": [
    "def CNN_model():\n",
    "    initializers=tf.keras.initializers.RandomNormal(seed=1)\n",
    "\n",
    "    model = tf.keras.models.Sequential([\n",
    "        tf.keras.layers.Input(shape=(26,26,3)),\n",
    "        tf.keras.layers.Conv2D(16,kernel_size=(1,3),strides=(1,1),padding=\"same\",kernel_initializer=initializers),\n",
    "        tf.keras.layers.LeakyReLU(0.2),\n",
    "        tf.keras.layers.Conv2D(16,kernel_size=(1,3),strides=(1,1),padding=\"same\",kernel_initializer=initializers),\n",
    "        tf.keras.layers.LeakyReLU(0.2),\n",
    "        tf.keras.layers.Conv2D(16,kernel_size=(1,3),strides=(1,1),padding=\"same\",kernel_initializer=initializers),\n",
    "    ])\n",
    "\n",
    "    return model"
   ]
  },
  {
   "cell_type": "code",
   "execution_count": 6,
   "metadata": {},
   "outputs": [],
   "source": [
    "def LSTM_model(input_shape=(26,26,3),n_a=512,n_h=8,n_values=9, context_window=26):\n",
    "\n",
    "    # Kernel Initializer\n",
    "    initializers = tf.keras.initializers.RandomNormal(seed=1)\n",
    "    # Reshapers\n",
    "    reshaper_input = Reshape((1,input_shape[1]*input_shape[2]))\n",
    "    reshaper_temporal = Reshape((1,n_a//4))\n",
    "    reshaper_output = Reshape((input_shape[0]*n_a//4,))\n",
    "    # LSTM and Dense Cells\n",
    "    LSTMcell = LSTM(n_a, return_state=True, kernel_initializer=initializers)\n",
    "    Densor1 = Dense(n_a/2, kernel_initializer=initializers, activation=\"relu\")\n",
    "    Densor2 = Dense(n_a/4,kernel_initializer=initializers,activation=\"relu\")\n",
    "    # Self Attention Mechanism\n",
    "    key = Dense(n_a/4,kernel_initializer=initializers,activation=\"relu\")\n",
    "    query = Dense(n_a/4,kernel_initializer=initializers,activation=\"relu\")\n",
    "    value = Dense(n_a/4,kernel_initializer=initializers,activation=\"relu\")\n",
    "    # Concatenate temporal outputs \n",
    "    concat = Concatenate(axis=1)\n",
    "    # Softmax to obtain prediction\n",
    "    Densor_softmax = Dense(n_values, kernel_initializer=initializers, activation='linear')\n",
    "\n",
    "    # Model Architecture\n",
    "    inputs = Input(shape=input_shape)\n",
    "    outputs = []\n",
    "\n",
    "    # LSTM and Dense Cells\n",
    "    for i in range(context_window):\n",
    "        x = inputs[:, i, :, :]\n",
    "        x = reshaper_input(x)\n",
    "        if i==0:\n",
    "            _, a, c = LSTMcell(x)\n",
    "        else:\n",
    "            _, a, c = LSTMcell(x,initial_state=[a,c])\n",
    "        out = Densor1(a)\n",
    "        out = Densor2(out)\n",
    "        out = reshaper_temporal(out)\n",
    "        outputs.append(out)\n",
    "    \n",
    "    # Concatenate temporal dimension\n",
    "    outputs = concat(outputs)\n",
    "    # Embedding Dimension for each head\n",
    "    n_dk = (n_a//4)//n_h\n",
    "    sqrt_dk = tf.math.sqrt(tf.cast(n_dk,tf.float32))\n",
    "    # Multi Head Self Attention\n",
    "    q = query(outputs)\n",
    "    q = Reshape((input_shape[0],n_h,n_dk))(q)\n",
    "    q = tf.transpose(q,perm=[0,2,1,3])\n",
    "    k = key(outputs)\n",
    "    k = Reshape((input_shape[0],n_h,n_dk))(k)\n",
    "    k = tf.transpose(k,perm=[0,2,3,1])\n",
    "    v = value(outputs)\n",
    "    v = Reshape((input_shape[0],n_h,n_dk))(v)\n",
    "    v = tf.transpose(v,perm=[0,2,1,3])\n",
    "    self_attention_scores = tf.nn.softmax(tf.matmul(q,k)/sqrt_dk,axis=-1)\n",
    "    self_attention = tf.matmul(self_attention_scores,v)\n",
    "    self_attention = tf.transpose(self_attention,perm=[0,2,1,3])\n",
    "    self_attention = Reshape((input_shape[0],n_a//4))(self_attention)\n",
    "    # Output reshape\n",
    "    outputs = reshaper_output(self_attention)\n",
    "    # Feed Forward Network\n",
    "    outputs = Dense(n_a//4,kernel_initializer=initializers,activation='relu',kernel_regularizer=tf.keras.regularizers.L2(0.01))(outputs)\n",
    "    # Softmax output\n",
    "    outputs = Densor_softmax(outputs)\n",
    "\n",
    "    model = Model(inputs=[inputs], outputs=[outputs])\n",
    "\n",
    "    return model"
   ]
  },
  {
   "cell_type": "code",
   "execution_count": 7,
   "metadata": {},
   "outputs": [],
   "source": [
    "def CNN_LSTM_model():\n",
    "    input = Input(shape=(26,26,3))\n",
    "    x = CNN_model()(input)\n",
    "    output = LSTM_model((26,26,16),512,8,9,26)(x)\n",
    "    \n",
    "    model = Model(inputs=[input],outputs=[output])\n",
    "\n",
    "    model.compile(\n",
    "        loss=tf.keras.losses.SparseCategoricalCrossentropy(from_logits=True),\n",
    "        optimizer=tf.keras.optimizers.Adam(learning_rate=0.0001),\n",
    "        metrics=['accuracy']\n",
    "    )\n",
    "\n",
    "    return model"
   ]
  },
  {
   "cell_type": "code",
   "execution_count": 8,
   "metadata": {},
   "outputs": [],
   "source": [
    "model = CNN_LSTM_model()"
   ]
  },
  {
   "cell_type": "code",
   "execution_count": 9,
   "metadata": {},
   "outputs": [
    {
     "name": "stdout",
     "output_type": "stream",
     "text": [
      "Model: \"model_1\"\n",
      "_________________________________________________________________\n",
      " Layer (type)                Output Shape              Param #   \n",
      "=================================================================\n",
      " input_1 (InputLayer)        [(None, 26, 26, 3)]       0         \n",
      "                                                                 \n",
      " sequential (Sequential)     (None, 26, 26, 16)        1728      \n",
      "                                                                 \n",
      " model (Functional)          (None, 9)                 2543625   \n",
      "                                                                 \n",
      "=================================================================\n",
      "Total params: 2,545,353\n",
      "Trainable params: 2,545,353\n",
      "Non-trainable params: 0\n",
      "_________________________________________________________________\n"
     ]
    }
   ],
   "source": [
    "model.summary()"
   ]
  },
  {
   "cell_type": "code",
   "execution_count": 10,
   "metadata": {},
   "outputs": [
    {
     "data": {
      "image/png": "[encoded data removed]",
      "text/plain": [
       "<IPython.core.display.Image object>"
      ]
     },
     "execution_count": 10,
     "metadata": {},
     "output_type": "execute_result"
    }
   ],
   "source": [
    "tf.keras.utils.plot_model(model,to_file=\"Softmax_LSTM_CNN_attention_model.png\",show_shapes=True)"
   ]
  },
  {
   "cell_type": "code",
   "execution_count": 10,
   "metadata": {},
   "outputs": [],
   "source": [
    "class myCallback(tf.keras.callbacks.Callback):\n",
    "    def __init__(self):\n",
    "        self.prev_loss=0\n",
    "    def on_epoch_end(self,epoch,logs={}):\n",
    "        model.save(f\"C:/Users/Sagar/Python files_Jupiter/Git Repo Local/IDS_IPS Softmax Classification/Results/CNN_LSTM_attention models/model_{epoch}.h5\")\n",
    "        if(epoch>0 and logs.get('loss')>=self.prev_loss):\n",
    "            print('\\nLearning rate updated')\n",
    "            self.model.optimizer.lr.assign(self.model.optimizer.lr.read_value()*0.1)\n",
    "        self.prev_loss=logs.get('loss')\n",
    "\n",
    "callbacks=myCallback()"
   ]
  },
  {
   "cell_type": "code",
   "execution_count": 11,
   "metadata": {},
   "outputs": [
    {
     "name": "stdout",
     "output_type": "stream",
     "text": [
      "Epoch 1/30\n"
     ]
    },
    {
     "name": "stdout",
     "output_type": "stream",
     "text": [
      "141/141 [==============================] - 96s 281ms/step - loss: 9.2925 - accuracy: 0.8988 - val_loss: 7.2812 - val_accuracy: 0.9933\n",
      "Epoch 2/30\n",
      "141/141 [==============================] - 26s 179ms/step - loss: 6.0016 - accuracy: 0.9982 - val_loss: 4.8769 - val_accuracy: 0.9944\n",
      "Epoch 3/30\n",
      "141/141 [==============================] - 25s 177ms/step - loss: 4.0109 - accuracy: 0.9992 - val_loss: 3.2554 - val_accuracy: 0.9967\n",
      "Epoch 4/30\n",
      "141/141 [==============================] - 25s 179ms/step - loss: 2.6716 - accuracy: 0.9992 - val_loss: 2.1725 - val_accuracy: 0.9944\n",
      "Epoch 5/30\n",
      "141/141 [==============================] - 26s 180ms/step - loss: 1.7718 - accuracy: 0.9995 - val_loss: 1.4403 - val_accuracy: 0.9942\n",
      "Epoch 6/30\n",
      "141/141 [==============================] - 25s 175ms/step - loss: 1.1699 - accuracy: 0.9994 - val_loss: 0.9597 - val_accuracy: 0.9942\n",
      "Epoch 7/30\n",
      "141/141 [==============================] - 25s 177ms/step - loss: 0.7687 - accuracy: 0.9993 - val_loss: 0.6314 - val_accuracy: 0.9942\n",
      "Epoch 8/30\n",
      "141/141 [==============================] - 25s 176ms/step - loss: 0.5022 - accuracy: 0.9994 - val_loss: 0.4187 - val_accuracy: 0.9942\n",
      "Epoch 9/30\n",
      "141/141 [==============================] - 26s 184ms/step - loss: 0.3261 - accuracy: 0.9996 - val_loss: 0.2778 - val_accuracy: 0.9949\n",
      "Epoch 10/30\n",
      "141/141 [==============================] - 26s 185ms/step - loss: 0.2106 - accuracy: 0.9997 - val_loss: 0.1877 - val_accuracy: 0.9942\n",
      "Epoch 11/30\n",
      "141/141 [==============================] - 27s 186ms/step - loss: 0.1363 - accuracy: 0.9996 - val_loss: 0.1351 - val_accuracy: 0.9938\n",
      "Epoch 12/30\n",
      "141/141 [==============================] - 26s 185ms/step - loss: 0.0874 - accuracy: 0.9995 - val_loss: 0.1048 - val_accuracy: 0.9938\n",
      "Epoch 13/30\n",
      "141/141 [==============================] - 28s 194ms/step - loss: 0.0559 - accuracy: 0.9994 - val_loss: 0.0630 - val_accuracy: 0.9947\n",
      "Epoch 14/30\n",
      "141/141 [==============================] - 27s 189ms/step - loss: 0.0359 - accuracy: 0.9995 - val_loss: 0.0596 - val_accuracy: 0.9938\n",
      "Epoch 15/30\n",
      "141/141 [==============================] - 27s 189ms/step - loss: 0.0229 - accuracy: 0.9997 - val_loss: 0.0480 - val_accuracy: 0.9938\n",
      "Epoch 16/30\n",
      "141/141 [==============================] - 27s 187ms/step - loss: 0.0152 - accuracy: 0.9994 - val_loss: 0.0528 - val_accuracy: 0.9938\n",
      "Epoch 17/30\n",
      "141/141 [==============================] - 27s 187ms/step - loss: 0.0099 - accuracy: 0.9996 - val_loss: 0.0390 - val_accuracy: 0.9940\n",
      "Epoch 18/30\n",
      "141/141 [==============================] - 28s 194ms/step - loss: 0.0079 - accuracy: 0.9994 - val_loss: 0.0275 - val_accuracy: 0.9949\n",
      "Epoch 19/30\n",
      "141/141 [==============================] - 26s 181ms/step - loss: 0.0051 - accuracy: 0.9996 - val_loss: 0.0315 - val_accuracy: 0.9947\n",
      "Epoch 20/30\n",
      "141/141 [==============================] - ETA: 0s - loss: 0.0302 - accuracy: 0.9938\n",
      "Learning rate updated\n",
      "141/141 [==============================] - 26s 181ms/step - loss: 0.0302 - accuracy: 0.9938 - val_loss: 0.0317 - val_accuracy: 0.9969\n",
      "Epoch 21/30\n",
      "141/141 [==============================] - 27s 189ms/step - loss: 0.0232 - accuracy: 0.9991 - val_loss: 0.0304 - val_accuracy: 0.9971\n",
      "Epoch 22/30\n",
      "141/141 [==============================] - 26s 186ms/step - loss: 0.0197 - accuracy: 0.9998 - val_loss: 0.0295 - val_accuracy: 0.9971\n",
      "Epoch 23/30\n",
      "141/141 [==============================] - 28s 200ms/step - loss: 0.0178 - accuracy: 0.9998 - val_loss: 0.0284 - val_accuracy: 0.9971\n",
      "Epoch 24/30\n",
      "141/141 [==============================] - 29s 201ms/step - loss: 0.0162 - accuracy: 0.9998 - val_loss: 0.0273 - val_accuracy: 0.9971\n",
      "Epoch 25/30\n",
      "141/141 [==============================] - 28s 194ms/step - loss: 0.0148 - accuracy: 1.0000 - val_loss: 0.0263 - val_accuracy: 0.9971\n",
      "Epoch 26/30\n",
      "141/141 [==============================] - 34s 239ms/step - loss: 0.0136 - accuracy: 1.0000 - val_loss: 0.0255 - val_accuracy: 0.9971\n",
      "Epoch 27/30\n",
      "141/141 [==============================] - 37s 257ms/step - loss: 0.0125 - accuracy: 1.0000 - val_loss: 0.0247 - val_accuracy: 0.9971\n",
      "Epoch 28/30\n",
      "141/141 [==============================] - 28s 196ms/step - loss: 0.0115 - accuracy: 1.0000 - val_loss: 0.0240 - val_accuracy: 0.9971\n",
      "Epoch 29/30\n",
      "141/141 [==============================] - 29s 206ms/step - loss: 0.0105 - accuracy: 1.0000 - val_loss: 0.0233 - val_accuracy: 0.9971\n",
      "Epoch 30/30\n",
      "141/141 [==============================] - 29s 202ms/step - loss: 0.0097 - accuracy: 1.0000 - val_loss: 0.0227 - val_accuracy: 0.9971\n"
     ]
    }
   ],
   "source": [
    "history=model.fit(train_dataset,validation_data=test_dataset,batch_size=128,epochs=30,callbacks=[callbacks])"
   ]
  },
  {
   "cell_type": "code",
   "execution_count": 12,
   "metadata": {},
   "outputs": [],
   "source": [
    "# Emergency Save\n",
    "model.save(f\"C:/Users/Sagar/Python files_Jupiter/Git Repo Local/IDS_IPS Softmax Classification/Results/CNN_LSTM_attention models/model_{30}.h5\")"
   ]
  },
  {
   "cell_type": "code",
   "execution_count": 13,
   "metadata": {},
   "outputs": [],
   "source": [
    "import json\n",
    "\n",
    "with open(f\"C:/Users/Sagar/Python files_Jupiter/Git Repo Local/IDS_IPS Softmax Classification/Results/CNN_LSTM_attention.txt\",\"w\") as file:\n",
    "    file.write(json.dumps(history.params))\n",
    "with open(f\"C:/Users/Sagar/Python files_Jupiter/Git Repo Local/IDS_IPS Softmax Classification/Results/CNN_LSTM_attention_history.txt\",\"w\") as file:\n",
    "    file.write(json.dumps(history.history))"
   ]
  },
  {
   "cell_type": "code",
   "execution_count": 14,
   "metadata": {},
   "outputs": [],
   "source": [
    "model=tf.keras.models.load_model(f\"C:/Users/Sagar/Python files_Jupiter/Git Repo Local/IDS_IPS Softmax Classification/Results/CNN_LSTM_attention models/model_{29}.h5\")"
   ]
  },
  {
   "cell_type": "code",
   "execution_count": 15,
   "metadata": {},
   "outputs": [
    {
     "data": {
      "image/png": "[encoded data removed]",
      "text/plain": [
       "<Figure size 640x480 with 1 Axes>"
      ]
     },
     "metadata": {},
     "output_type": "display_data"
    }
   ],
   "source": [
    "plt.plot(range(30),history.history[\"loss\"],color=\"blue\",label=\"Train Loss\")\n",
    "plt.plot(range(30),history.history[\"val_loss\"],color=\"orange\",label=\"Validation Loss\")\n",
    "plt.show()"
   ]
  },
  {
   "cell_type": "code",
   "execution_count": 16,
   "metadata": {},
   "outputs": [
    {
     "data": {
      "image/png": "[encoded data removed]",
      "text/plain": [
       "<Figure size 640x480 with 1 Axes>"
      ]
     },
     "metadata": {},
     "output_type": "display_data"
    }
   ],
   "source": [
    "plt.plot(range(30),history.history[\"accuracy\"],color=\"blue\",label=\"Train Accuracy\")\n",
    "plt.plot(range(30),history.history[\"val_accuracy\"],color=\"orange\",label=\"Validation Accuracy\")\n",
    "plt.show()"
   ]
  },
  {
   "cell_type": "code",
   "execution_count": 22,
   "metadata": {},
   "outputs": [
    {
     "name": "stdout",
     "output_type": "stream",
     "text": [
      "141/141 [==============================] - 11s 75ms/step - loss: 0.0093 - accuracy: 1.0000\n",
      "36/36 [==============================] - 3s 86ms/step - loss: 0.0227 - accuracy: 0.9971\n"
     ]
    },
    {
     "data": {
      "text/plain": [
       "[0.022676756605505943, 0.9971066117286682]"
      ]
     },
     "execution_count": 22,
     "metadata": {},
     "output_type": "execute_result"
    }
   ],
   "source": [
    "model.evaluate(train_dataset)\n",
    "model.evaluate(test_dataset)"
   ]
  },
  {
   "cell_type": "code",
   "execution_count": 23,
   "metadata": {},
   "outputs": [],
   "source": [
    "Y_test=np.concatenate([y for x,y in test_dataset],axis=0)"
   ]
  },
  {
   "cell_type": "code",
   "execution_count": 24,
   "metadata": {},
   "outputs": [
    {
     "name": "stdout",
     "output_type": "stream",
     "text": [
      "36/36 [==============================] - 3s 73ms/step\n"
     ]
    }
   ],
   "source": [
    "y_predict=np.argmax(tf.nn.softmax(model.predict(test_dataset)),axis=1)"
   ]
  },
  {
   "cell_type": "code",
   "execution_count": 25,
   "metadata": {},
   "outputs": [
    {
     "data": {
      "text/plain": [
       "<tf.Tensor: shape=(9, 9), dtype=int32, numpy=\n",
       "array([[3073,    0,    0,    0,    0,    0,    0,    0,    0],\n",
       "       [   0,  384,    0,    0,    0,    0,    0,    0,    0],\n",
       "       [   0,    0,  384,    0,    0,    0,    0,    0,    0],\n",
       "       [   0,    0,    0,   59,    0,    1,    0,    0,    0],\n",
       "       [   0,    0,    0,    0,   45,    0,    0,    0,    0],\n",
       "       [   0,    0,    0,    0,    0,   32,   12,    0,    0],\n",
       "       [   0,    0,    0,    0,    0,    0,   41,    0,    0],\n",
       "       [   0,    0,    0,    0,    0,    0,    0,  384,    0],\n",
       "       [   0,    0,    0,    0,    0,    0,    0,    0,   78]])>"
      ]
     },
     "execution_count": 25,
     "metadata": {},
     "output_type": "execute_result"
    }
   ],
   "source": [
    "confusion_matrix=tf.math.confusion_matrix(Y_test,y_predict)\n",
    "confusion_matrix"
   ]
  },
  {
   "cell_type": "code",
   "execution_count": 26,
   "metadata": {},
   "outputs": [],
   "source": [
    "from mlxtend.plotting import plot_confusion_matrix"
   ]
  },
  {
   "cell_type": "code",
   "execution_count": 27,
   "metadata": {},
   "outputs": [
    {
     "data": {
      "image/png": "[encoded data removed]",
      "text/plain": [
       "<Figure size 640x480 with 1 Axes>"
      ]
     },
     "metadata": {},
     "output_type": "display_data"
    }
   ],
   "source": [
    "fig,ax=plot_confusion_matrix(confusion_matrix.numpy())\n",
    "plt.show()"
   ]
  },
  {
   "cell_type": "code",
   "execution_count": null,
   "metadata": {},
   "outputs": [],
   "source": []
  }
 ],
 "metadata": {
  "kernelspec": {
   "display_name": "py39",
   "language": "python",
   "name": "python3"
  },
  "language_info": {
   "codemirror_mode": {
    "name": "ipython",
    "version": 3
   },
   "file_extension": ".py",
   "mimetype": "text/x-python",
   "name": "python",
   "nbconvert_exporter": "python",
   "pygments_lexer": "ipython3",
   "version": "3.9.17"
  }
 },
 "nbformat": 4,
 "nbformat_minor": 2
}
